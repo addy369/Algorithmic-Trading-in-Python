{
 "cells": [
  {
   "cell_type": "code",
   "execution_count": 13,
   "metadata": {},
   "outputs": [],
   "source": [
    "#CHOSEN TRADING STRATEGY\n",
    "#CCI CORRECTION"
   ]
  },
  {
   "cell_type": "code",
   "execution_count": 14,
   "metadata": {},
   "outputs": [],
   "source": [
    "# Commodity Channel Index Python Code\n",
    "# Load the necessary packages and modules\n",
    "import matplotlib.pyplot as plt\n",
    "import pandas as pd\n",
    "from pandas_datareader import data as pdr\n",
    "from datetime import datetime"
   ]
  },
  {
   "cell_type": "code",
   "execution_count": 15,
   "metadata": {
    "scrolled": true
   },
   "outputs": [
    {
     "data": {
      "text/html": [
       "<div>\n",
       "<style scoped>\n",
       "    .dataframe tbody tr th:only-of-type {\n",
       "        vertical-align: middle;\n",
       "    }\n",
       "\n",
       "    .dataframe tbody tr th {\n",
       "        vertical-align: top;\n",
       "    }\n",
       "\n",
       "    .dataframe thead th {\n",
       "        text-align: right;\n",
       "    }\n",
       "</style>\n",
       "<table border=\"1\" class=\"dataframe\">\n",
       "  <thead>\n",
       "    <tr style=\"text-align: right;\">\n",
       "      <th></th>\n",
       "      <th>Date</th>\n",
       "      <th>Open</th>\n",
       "      <th>High</th>\n",
       "      <th>Low</th>\n",
       "      <th>Vol.</th>\n",
       "      <th>Change %</th>\n",
       "      <th>Close</th>\n",
       "    </tr>\n",
       "  </thead>\n",
       "  <tbody>\n",
       "    <tr>\n",
       "      <th>0</th>\n",
       "      <td>Jan 01, 2015</td>\n",
       "      <td>154.40</td>\n",
       "      <td>155.6</td>\n",
       "      <td>153.30</td>\n",
       "      <td>633.48K</td>\n",
       "      <td>-0.03%</td>\n",
       "      <td>154.53</td>\n",
       "    </tr>\n",
       "    <tr>\n",
       "      <th>1</th>\n",
       "      <td>Jan 02, 2015</td>\n",
       "      <td>154.98</td>\n",
       "      <td>159.6</td>\n",
       "      <td>154.60</td>\n",
       "      <td>1.26M</td>\n",
       "      <td>2.60%</td>\n",
       "      <td>158.55</td>\n",
       "    </tr>\n",
       "    <tr>\n",
       "      <th>2</th>\n",
       "      <td>Jan 05, 2015</td>\n",
       "      <td>159.80</td>\n",
       "      <td>160.9</td>\n",
       "      <td>157.96</td>\n",
       "      <td>1.26M</td>\n",
       "      <td>0.33%</td>\n",
       "      <td>159.08</td>\n",
       "    </tr>\n",
       "    <tr>\n",
       "      <th>3</th>\n",
       "      <td>Jan 06, 2015</td>\n",
       "      <td>158.00</td>\n",
       "      <td>158.0</td>\n",
       "      <td>153.67</td>\n",
       "      <td>1.58M</td>\n",
       "      <td>-2.98%</td>\n",
       "      <td>154.34</td>\n",
       "    </tr>\n",
       "    <tr>\n",
       "      <th>4</th>\n",
       "      <td>Jan 07, 2015</td>\n",
       "      <td>154.40</td>\n",
       "      <td>155.3</td>\n",
       "      <td>150.97</td>\n",
       "      <td>1.54M</td>\n",
       "      <td>-1.82%</td>\n",
       "      <td>151.53</td>\n",
       "    </tr>\n",
       "  </tbody>\n",
       "</table>\n",
       "</div>"
      ],
      "text/plain": [
       "           Date    Open   High     Low     Vol. Change %   Close\n",
       "0  Jan 01, 2015  154.40  155.6  153.30  633.48K   -0.03%  154.53\n",
       "1  Jan 02, 2015  154.98  159.6  154.60    1.26M    2.60%  158.55\n",
       "2  Jan 05, 2015  159.80  160.9  157.96    1.26M    0.33%  159.08\n",
       "3  Jan 06, 2015  158.00  158.0  153.67    1.58M   -2.98%  154.34\n",
       "4  Jan 07, 2015  154.40  155.3  150.97    1.54M   -1.82%  151.53"
      ]
     },
     "execution_count": 15,
     "metadata": {},
     "output_type": "execute_result"
    }
   ],
   "source": [
    "#Importing data of YESB\n",
    "data=pd.read_csv(r\"F:\\Important stuff\\YESB Historical Data (2).csv\")\n",
    "data.head()\n",
    "data['Close']=data['Price']\n",
    "data.drop('Price',axis=1,inplace=True)\n",
    "data.head()"
   ]
  },
  {
   "cell_type": "code",
   "execution_count": 16,
   "metadata": {},
   "outputs": [],
   "source": [
    "def CCI(data, ndays): \n",
    " TP = (data['High'] + data['Low'] + data['Close']) / 3 \n",
    " CCI = pd.Series((TP - TP.rolling(ndays).mean()) / (0.015 * TP.rolling(ndays).std()),\n",
    " name = 'CCI') \n",
    " data = data.join(CCI) \n",
    " return data\n",
    "\n",
    "# Compute the Commodity Channel Index(CCI) for YESBANK based on the 50-day Moving average and 20-day Moving average\n",
    "n = 50\n",
    "YESB_data = CCI(data, n)\n",
    "CCI1 = YESB_data['CCI']\n",
    "YESB_data2=CCI(data,20)\n",
    "CCI2 = YESB_data2['CCI']"
   ]
  },
  {
   "cell_type": "code",
   "execution_count": null,
   "metadata": {},
   "outputs": [],
   "source": [
    "#To ensure data starts from 1st April"
   ]
  },
  {
   "cell_type": "code",
   "execution_count": 17,
   "metadata": {},
   "outputs": [],
   "source": [
    "YESB_data1=YESB_data[62:]"
   ]
  },
  {
   "cell_type": "code",
   "execution_count": 18,
   "metadata": {},
   "outputs": [],
   "source": [
    "YESB_data2=YESB_data2[62:]\n",
    "CCI2=CCI2[62:]\n",
    "CCI1=CCI1[62:]"
   ]
  },
  {
   "cell_type": "code",
   "execution_count": null,
   "metadata": {},
   "outputs": [],
   "source": [
    "#Two data sets for different CCI values(50 day and 20 day CCI)\n",
    "#YESB_data1 contains 50 day CCI\n",
    "#YESB_data2 contains 20 day CCI"
   ]
  },
  {
   "cell_type": "code",
   "execution_count": 19,
   "metadata": {},
   "outputs": [
    {
     "data": {
      "text/html": [
       "<div>\n",
       "<style scoped>\n",
       "    .dataframe tbody tr th:only-of-type {\n",
       "        vertical-align: middle;\n",
       "    }\n",
       "\n",
       "    .dataframe tbody tr th {\n",
       "        vertical-align: top;\n",
       "    }\n",
       "\n",
       "    .dataframe thead th {\n",
       "        text-align: right;\n",
       "    }\n",
       "</style>\n",
       "<table border=\"1\" class=\"dataframe\">\n",
       "  <thead>\n",
       "    <tr style=\"text-align: right;\">\n",
       "      <th></th>\n",
       "      <th>Date</th>\n",
       "      <th>Open</th>\n",
       "      <th>High</th>\n",
       "      <th>Low</th>\n",
       "      <th>Vol.</th>\n",
       "      <th>Change %</th>\n",
       "      <th>Close</th>\n",
       "      <th>CCI</th>\n",
       "    </tr>\n",
       "  </thead>\n",
       "  <tbody>\n",
       "    <tr>\n",
       "      <th>62</th>\n",
       "      <td>Apr 01, 2015</td>\n",
       "      <td>162.8</td>\n",
       "      <td>170.56</td>\n",
       "      <td>161.80</td>\n",
       "      <td>1.69M</td>\n",
       "      <td>3.73%</td>\n",
       "      <td>169.40</td>\n",
       "      <td>11.806847</td>\n",
       "    </tr>\n",
       "    <tr>\n",
       "      <th>63</th>\n",
       "      <td>Apr 06, 2015</td>\n",
       "      <td>169.5</td>\n",
       "      <td>171.40</td>\n",
       "      <td>168.30</td>\n",
       "      <td>1.30M</td>\n",
       "      <td>-0.14%</td>\n",
       "      <td>169.16</td>\n",
       "      <td>43.678545</td>\n",
       "    </tr>\n",
       "    <tr>\n",
       "      <th>64</th>\n",
       "      <td>Apr 07, 2015</td>\n",
       "      <td>169.6</td>\n",
       "      <td>170.40</td>\n",
       "      <td>167.25</td>\n",
       "      <td>1.20M</td>\n",
       "      <td>-0.54%</td>\n",
       "      <td>168.24</td>\n",
       "      <td>31.765385</td>\n",
       "    </tr>\n",
       "    <tr>\n",
       "      <th>65</th>\n",
       "      <td>Apr 08, 2015</td>\n",
       "      <td>167.6</td>\n",
       "      <td>168.62</td>\n",
       "      <td>163.79</td>\n",
       "      <td>2.41M</td>\n",
       "      <td>-2.46%</td>\n",
       "      <td>164.10</td>\n",
       "      <td>-9.446423</td>\n",
       "    </tr>\n",
       "    <tr>\n",
       "      <th>66</th>\n",
       "      <td>Apr 09, 2015</td>\n",
       "      <td>164.9</td>\n",
       "      <td>168.98</td>\n",
       "      <td>164.19</td>\n",
       "      <td>1.70M</td>\n",
       "      <td>2.67%</td>\n",
       "      <td>168.48</td>\n",
       "      <td>16.461188</td>\n",
       "    </tr>\n",
       "  </tbody>\n",
       "</table>\n",
       "</div>"
      ],
      "text/plain": [
       "            Date   Open    High     Low   Vol. Change %   Close        CCI\n",
       "62  Apr 01, 2015  162.8  170.56  161.80  1.69M    3.73%  169.40  11.806847\n",
       "63  Apr 06, 2015  169.5  171.40  168.30  1.30M   -0.14%  169.16  43.678545\n",
       "64  Apr 07, 2015  169.6  170.40  167.25  1.20M   -0.54%  168.24  31.765385\n",
       "65  Apr 08, 2015  167.6  168.62  163.79  2.41M   -2.46%  164.10  -9.446423\n",
       "66  Apr 09, 2015  164.9  168.98  164.19  1.70M    2.67%  168.48  16.461188"
      ]
     },
     "execution_count": 19,
     "metadata": {},
     "output_type": "execute_result"
    }
   ],
   "source": [
    "YESB_data1.head()"
   ]
  },
  {
   "cell_type": "code",
   "execution_count": 20,
   "metadata": {},
   "outputs": [
    {
     "data": {
      "text/html": [
       "<div>\n",
       "<style scoped>\n",
       "    .dataframe tbody tr th:only-of-type {\n",
       "        vertical-align: middle;\n",
       "    }\n",
       "\n",
       "    .dataframe tbody tr th {\n",
       "        vertical-align: top;\n",
       "    }\n",
       "\n",
       "    .dataframe thead th {\n",
       "        text-align: right;\n",
       "    }\n",
       "</style>\n",
       "<table border=\"1\" class=\"dataframe\">\n",
       "  <thead>\n",
       "    <tr style=\"text-align: right;\">\n",
       "      <th></th>\n",
       "      <th>Date</th>\n",
       "      <th>Open</th>\n",
       "      <th>High</th>\n",
       "      <th>Low</th>\n",
       "      <th>Vol.</th>\n",
       "      <th>Change %</th>\n",
       "      <th>Close</th>\n",
       "      <th>CCI</th>\n",
       "    </tr>\n",
       "  </thead>\n",
       "  <tbody>\n",
       "    <tr>\n",
       "      <th>62</th>\n",
       "      <td>Apr 01, 2015</td>\n",
       "      <td>162.8</td>\n",
       "      <td>170.56</td>\n",
       "      <td>161.80</td>\n",
       "      <td>1.69M</td>\n",
       "      <td>3.73%</td>\n",
       "      <td>169.40</td>\n",
       "      <td>31.126471</td>\n",
       "    </tr>\n",
       "    <tr>\n",
       "      <th>63</th>\n",
       "      <td>Apr 06, 2015</td>\n",
       "      <td>169.5</td>\n",
       "      <td>171.40</td>\n",
       "      <td>168.30</td>\n",
       "      <td>1.30M</td>\n",
       "      <td>-0.14%</td>\n",
       "      <td>169.16</td>\n",
       "      <td>100.282928</td>\n",
       "    </tr>\n",
       "    <tr>\n",
       "      <th>64</th>\n",
       "      <td>Apr 07, 2015</td>\n",
       "      <td>169.6</td>\n",
       "      <td>170.40</td>\n",
       "      <td>167.25</td>\n",
       "      <td>1.20M</td>\n",
       "      <td>-0.54%</td>\n",
       "      <td>168.24</td>\n",
       "      <td>85.744567</td>\n",
       "    </tr>\n",
       "    <tr>\n",
       "      <th>65</th>\n",
       "      <td>Apr 08, 2015</td>\n",
       "      <td>167.6</td>\n",
       "      <td>168.62</td>\n",
       "      <td>163.79</td>\n",
       "      <td>2.41M</td>\n",
       "      <td>-2.46%</td>\n",
       "      <td>164.10</td>\n",
       "      <td>6.393543</td>\n",
       "    </tr>\n",
       "    <tr>\n",
       "      <th>66</th>\n",
       "      <td>Apr 09, 2015</td>\n",
       "      <td>164.9</td>\n",
       "      <td>168.98</td>\n",
       "      <td>164.19</td>\n",
       "      <td>1.70M</td>\n",
       "      <td>2.67%</td>\n",
       "      <td>168.48</td>\n",
       "      <td>48.672082</td>\n",
       "    </tr>\n",
       "  </tbody>\n",
       "</table>\n",
       "</div>"
      ],
      "text/plain": [
       "            Date   Open    High     Low   Vol. Change %   Close         CCI\n",
       "62  Apr 01, 2015  162.8  170.56  161.80  1.69M    3.73%  169.40   31.126471\n",
       "63  Apr 06, 2015  169.5  171.40  168.30  1.30M   -0.14%  169.16  100.282928\n",
       "64  Apr 07, 2015  169.6  170.40  167.25  1.20M   -0.54%  168.24   85.744567\n",
       "65  Apr 08, 2015  167.6  168.62  163.79  2.41M   -2.46%  164.10    6.393543\n",
       "66  Apr 09, 2015  164.9  168.98  164.19  1.70M    2.67%  168.48   48.672082"
      ]
     },
     "execution_count": 20,
     "metadata": {},
     "output_type": "execute_result"
    }
   ],
   "source": [
    "YESB_data2.head()"
   ]
  },
  {
   "cell_type": "code",
   "execution_count": 21,
   "metadata": {},
   "outputs": [
    {
     "name": "stderr",
     "output_type": "stream",
     "text": [
      "C:\\Users\\Aditya\\Anaconda3\\lib\\site-packages\\ipykernel_launcher.py:1: SettingWithCopyWarning: \n",
      "A value is trying to be set on a copy of a slice from a DataFrame.\n",
      "Try using .loc[row_indexer,col_indexer] = value instead\n",
      "\n",
      "See the caveats in the documentation: http://pandas.pydata.org/pandas-docs/stable/indexing.html#indexing-view-versus-copy\n",
      "  \"\"\"Entry point for launching an IPython kernel.\n"
     ]
    }
   ],
   "source": [
    "YESB_data1['Date']=pd.to_datetime(YESB_data1['Date'], format='%b %d, %Y')\n",
    "YESB_data2['Date']=pd.to_datetime(YESB_data2['Date'], format='%b %d, %Y')"
   ]
  },
  {
   "cell_type": "code",
   "execution_count": null,
   "metadata": {},
   "outputs": [],
   "source": [
    "#Plot of closing price of stock vs date  "
   ]
  },
  {
   "cell_type": "code",
   "execution_count": 95,
   "metadata": {},
   "outputs": [
    {
     "data": {
      "text/plain": [
       "[<matplotlib.lines.Line2D at 0x1cb5e962c50>]"
      ]
     },
     "execution_count": 95,
     "metadata": {},
     "output_type": "execute_result"
    },
    {
     "data": {
      "image/png": "[encoded data removed]",
      "text/plain": [
       "<Figure size 432x288 with 1 Axes>"
      ]
     },
     "metadata": {},
     "output_type": "display_data"
    }
   ],
   "source": [
    "plt.plot(YESB_data1['Date'],YESB_data1['Close'])"
   ]
  },
  {
   "cell_type": "code",
   "execution_count": 22,
   "metadata": {},
   "outputs": [],
   "source": [
    "#Plot of CCI1(50 day CCI vs date)"
   ]
  },
  {
   "cell_type": "code",
   "execution_count": 23,
   "metadata": {},
   "outputs": [
    {
     "data": {
      "text/plain": [
       "[<matplotlib.lines.Line2D at 0x2040e163400>]"
      ]
     },
     "execution_count": 23,
     "metadata": {},
     "output_type": "execute_result"
    },
    {
     "data": {
      "image/png": "[encoded data removed]",
      "text/plain": [
       "<Figure size 432x288 with 1 Axes>"
      ]
     },
     "metadata": {},
     "output_type": "display_data"
    }
   ],
   "source": [
    "plt.plot(YESB_data1['Date'],CCI1)"
   ]
  },
  {
   "cell_type": "code",
   "execution_count": 24,
   "metadata": {},
   "outputs": [],
   "source": [
    "#Plot of CCI2(20 day CCI vs date)"
   ]
  },
  {
   "cell_type": "code",
   "execution_count": 25,
   "metadata": {},
   "outputs": [
    {
     "data": {
      "text/plain": [
       "[<matplotlib.lines.Line2D at 0x2040e4912b0>]"
      ]
     },
     "execution_count": 25,
     "metadata": {},
     "output_type": "execute_result"
    },
    {
     "data": {
      "image/png": "[encoded data removed]",
      "text/plain": [
       "<Figure size 432x288 with 1 Axes>"
      ]
     },
     "metadata": {},
     "output_type": "display_data"
    }
   ],
   "source": [
    "plt.plot(YESB_data2['Date'],CCI2)"
   ]
  },
  {
   "cell_type": "code",
   "execution_count": 26,
   "metadata": {},
   "outputs": [],
   "source": [
    "#short term trading time frame and long term trading time frame"
   ]
  },
  {
   "cell_type": "code",
   "execution_count": 27,
   "metadata": {},
   "outputs": [],
   "source": [
    "#CCI TRADING BIAS CREATED BY 50 day CCI\n",
    "#CCI TRADING SIGNALS CREATED BY 10 day CCI"
   ]
  },
  {
   "cell_type": "code",
   "execution_count": 28,
   "metadata": {},
   "outputs": [],
   "source": [
    "# MAIN ALGORITHM\n",
    "# CONSIDER 50 day periods \n",
    "# BEARISH AND BULLISH TRADING BIAS IS GAUGED BY CCI"
   ]
  },
  {
   "cell_type": "code",
   "execution_count": 29,
   "metadata": {},
   "outputs": [],
   "source": [
    "# IF THE BIAS IS BULLISH\n",
    "#LOOK FOR BUY SIGNALS\n",
    "#IF BIAS IS BEARISH \n",
    "#LOOK FOR SELL SIGNALS"
   ]
  },
  {
   "cell_type": "code",
   "execution_count": 30,
   "metadata": {
    "scrolled": true
   },
   "outputs": [],
   "source": [
    "#SELL SIGNAL(BEARISH BIAS)\n",
    "#A surge above +100 and then a move below the zero line for the 20 day cci"
   ]
  },
  {
   "cell_type": "code",
   "execution_count": 31,
   "metadata": {},
   "outputs": [],
   "source": [
    "import numpy as np"
   ]
  },
  {
   "cell_type": "code",
   "execution_count": 32,
   "metadata": {},
   "outputs": [],
   "source": [
    "#initialize two arrays say a1 and b1\n",
    "#a1 stores value of index(starting from 62) which stores points where CCI(50 day) is greater than 100\n",
    "#b1 stores value of index(starting from 62) which stores points where CCI(50 day) is less than -100  "
   ]
  },
  {
   "cell_type": "code",
   "execution_count": 33,
   "metadata": {},
   "outputs": [],
   "source": [
    "a1=np.array([])\n",
    "b1=np.array([])"
   ]
  },
  {
   "cell_type": "code",
   "execution_count": 106,
   "metadata": {},
   "outputs": [],
   "source": [
    "for i in range(62,556):\n",
    "    if CCI1[i]>100:\n",
    "        a1=np.append(a1,i)\n",
    "    if CCI1[i]<-100:\n",
    "        b1=np.append(b1,i)\n"
   ]
  },
  {
   "cell_type": "code",
   "execution_count": 107,
   "metadata": {},
   "outputs": [
    {
     "data": {
      "text/plain": [
       "array([ 91.,  92.,  93.,  94.,  95., 100., 101., 209., 268., 269., 270.,\n",
       "       271., 272., 273., 294., 295., 296., 297., 298., 299., 300., 301.,\n",
       "       302., 303., 304., 305., 306., 307., 308., 309., 310., 317., 318.,\n",
       "       319., 320., 323., 324., 325., 326., 327., 328., 335., 337., 338.,\n",
       "       339., 340., 341., 342., 343., 344., 345., 346., 347., 348., 349.,\n",
       "       350., 351., 352., 353., 354., 355., 356., 357., 358., 359., 365.,\n",
       "       371., 372., 373., 374., 376., 377., 378., 379., 380., 381., 382.,\n",
       "       383., 386., 387., 388., 389., 390., 391., 392., 393., 394., 395.,\n",
       "       396., 397., 398., 399., 400., 401., 402., 403., 404., 405., 406.,\n",
       "       407., 408., 409., 410., 411., 412., 413., 414., 415., 416., 500.,\n",
       "       501., 502., 503., 504., 505., 506., 507., 508., 509., 510., 511.,\n",
       "       512., 513., 514., 515., 516., 517., 518., 519., 524., 525., 543.,\n",
       "       544., 545., 551., 552., 553., 554., 555.])"
      ]
     },
     "execution_count": 107,
     "metadata": {},
     "output_type": "execute_result"
    }
   ],
   "source": [
    "a1"
   ]
  },
  {
   "cell_type": "code",
   "execution_count": 108,
   "metadata": {},
   "outputs": [
    {
     "data": {
      "text/plain": [
       "array([ 72.,  73.,  74., 110., 129., 141., 142., 153., 154., 155., 158.,\n",
       "       159., 160., 161., 162., 163., 164., 165., 166., 167., 168., 169.,\n",
       "       170., 171., 232., 233., 234., 235., 236., 237., 252., 253., 254.,\n",
       "       255., 256., 257., 258., 259., 260., 261., 262., 461., 462., 465.,\n",
       "       466., 467., 468., 469., 490.])"
      ]
     },
     "execution_count": 108,
     "metadata": {},
     "output_type": "execute_result"
    }
   ],
   "source": [
    "b1"
   ]
  },
  {
   "cell_type": "code",
   "execution_count": 110,
   "metadata": {},
   "outputs": [],
   "source": [
    "#Our initial phase is bearish\n",
    "#Below contains intervals of inflexion i.e where bearish become bullish alternatively"
   ]
  },
  {
   "cell_type": "code",
   "execution_count": 111,
   "metadata": {},
   "outputs": [],
   "source": [
    "interval=np.array([62,91,110,209,232,268,461,500,555])"
   ]
  },
  {
   "cell_type": "code",
   "execution_count": 34,
   "metadata": {},
   "outputs": [],
   "source": [
    "#Selling and Buying points are decide by 20 day CCI i.e CCI2\n",
    "#A bearish bias or bullish bias is derived using 50 day CCI i.e CCI1\n",
    "#Bearish bias gives sell signals and Bullish bias gives buy signals\n",
    "#Sell and Buy array points are decieded by 20 day CCI i.e. CCI2 after trading bias is known\n",
    "#i.e Bullish->buy\n",
    "#i.e Bearish->sell "
   ]
  },
  {
   "cell_type": "code",
   "execution_count": 35,
   "metadata": {},
   "outputs": [],
   "source": [
    "sell=np.array([])\n",
    "buy=np.array([])"
   ]
  },
  {
   "cell_type": "code",
   "execution_count": 36,
   "metadata": {},
   "outputs": [],
   "source": [
    "for i in range(62,91):\n",
    "    if CCI2[i]<=0:\n",
    "        for j in range(62,i):\n",
    "            if CCI2[j]>=100:\n",
    "                sell=np.append(sell,i)\n",
    "        break       \n",
    "            "
   ]
  },
  {
   "cell_type": "code",
   "execution_count": 37,
   "metadata": {},
   "outputs": [],
   "source": [
    "for i in range(91,110):\n",
    "    if CCI2[i]>=0:\n",
    "        for j in range(91,i):\n",
    "            if CCI2[j]<=-100:\n",
    "                buy=np.append(buy,i)\n",
    "        break       "
   ]
  },
  {
   "cell_type": "code",
   "execution_count": 38,
   "metadata": {},
   "outputs": [],
   "source": [
    "for i in range(110,209):\n",
    "    if CCI2[i]<=0:\n",
    "        for j in range(110,i):\n",
    "            if CCI2[j]>=100:\n",
    "                sell=np.append(sell,i)\n",
    "                \n",
    "        break"
   ]
  },
  {
   "cell_type": "code",
   "execution_count": 39,
   "metadata": {},
   "outputs": [],
   "source": [
    "for i in range(209,232):\n",
    "    if CCI2[i]>=0:\n",
    "        for j in range(209,i):\n",
    "            if CCI2[j]<=-100:\n",
    "                buy=np.append(buy,i)\n",
    "                break\n",
    "        break"
   ]
  },
  {
   "cell_type": "code",
   "execution_count": 40,
   "metadata": {},
   "outputs": [],
   "source": [
    "for i in range(232,268):\n",
    "    if CCI2[i]<=0:\n",
    "        for j in range(232,i):\n",
    "                if CCI2[j]>=100:\n",
    "                    sell=np.append(sell,i)\n",
    "                break\n",
    "        break"
   ]
  },
  {
   "cell_type": "code",
   "execution_count": 41,
   "metadata": {},
   "outputs": [],
   "source": [
    "for i in range(268,461):\n",
    "    if CCI2[i]>=0:\n",
    "        for j in range(268,461):\n",
    "            if CCI2[j]<=-100:\n",
    "                buy=np.append(buy,i)\n",
    "                break\n",
    "        break"
   ]
  },
  {
   "cell_type": "code",
   "execution_count": 42,
   "metadata": {},
   "outputs": [],
   "source": [
    "for i in range(461,500):\n",
    "    if CCI2[i]<=0:\n",
    "        for j in range(461,500):\n",
    "            if CCI2[j]>=100:\n",
    "                sell=np.append(sell,i)\n",
    "                break\n",
    "        break"
   ]
  },
  {
   "cell_type": "code",
   "execution_count": 43,
   "metadata": {},
   "outputs": [],
   "source": [
    "for i in range(500,556):\n",
    "    if CCI2[i]>=0:\n",
    "        for j in range(500,556):\n",
    "            if CCI2[j]<=-100:\n",
    "                buy=np.append(buy,i)\n",
    "                break\n",
    "        break\n"
   ]
  },
  {
   "cell_type": "code",
   "execution_count": null,
   "metadata": {},
   "outputs": [],
   "source": [
    "#Final buy signals are recorded on the following indices"
   ]
  },
  {
   "cell_type": "code",
   "execution_count": 44,
   "metadata": {},
   "outputs": [
    {
     "data": {
      "text/plain": [
       "array([268.])"
      ]
     },
     "execution_count": 44,
     "metadata": {},
     "output_type": "execute_result"
    }
   ],
   "source": [
    "buy"
   ]
  },
  {
   "cell_type": "code",
   "execution_count": null,
   "metadata": {},
   "outputs": [],
   "source": [
    "#Final sell signals are recorded on the following indices"
   ]
  },
  {
   "cell_type": "code",
   "execution_count": 45,
   "metadata": {},
   "outputs": [
    {
     "data": {
      "text/plain": [
       "array([ 71., 461.])"
      ]
     },
     "execution_count": 45,
     "metadata": {},
     "output_type": "execute_result"
    }
   ],
   "source": [
    "sell"
   ]
  },
  {
   "cell_type": "code",
   "execution_count": 123,
   "metadata": {},
   "outputs": [],
   "source": [
    "# Net gain or profit considering we have stock on 1st April"
   ]
  },
  {
   "cell_type": "code",
   "execution_count": null,
   "metadata": {},
   "outputs": [],
   "source": [
    "#Intial portfolio value is zero"
   ]
  },
  {
   "cell_type": "code",
   "execution_count": 47,
   "metadata": {},
   "outputs": [],
   "source": [
    "Profit1=YESB_data1.Close[71]-YESB_data1.Close[62]+YESB_data1.Close[461]-YESB_data1.Close[268]"
   ]
  },
  {
   "cell_type": "code",
   "execution_count": 48,
   "metadata": {},
   "outputs": [],
   "source": [
    "y1=YESB_data1.Close[71]-YESB_data1.Close[62]\n",
    "y2=YESB_data1.Close[461]-YESB_data1.Close[268]"
   ]
  },
  {
   "cell_type": "code",
   "execution_count": 49,
   "metadata": {},
   "outputs": [],
   "source": [
    "YESB_data_plot=np.array([])"
   ]
  },
  {
   "cell_type": "code",
   "execution_count": 50,
   "metadata": {},
   "outputs": [],
   "source": [
    "for i in range(0,9):\n",
    "    YESB_data_plot=np.append(YESB_data_plot,0)\n",
    "for i in range(9,206):\n",
    "    YESB_data_plot=np.append(YESB_data_plot,y1)\n",
    "for i in range(206,399):\n",
    "    YESB_data_plot=np.append(YESB_data_plot,(YESB_data1.Close[i+62]+y1-YESB_data1.Close[268]))\n",
    "for i in range(399,495):\n",
    "    YESB_data_plot=np.append(YESB_data_plot,y1+y2)"
   ]
  },
  {
   "cell_type": "code",
   "execution_count": null,
   "metadata": {},
   "outputs": [],
   "source": [
    "#Portfolio value using CCI correction trading strategy are plotted against date"
   ]
  },
  {
   "cell_type": "code",
   "execution_count": 51,
   "metadata": {},
   "outputs": [
    {
     "data": {
      "text/plain": [
       "Text(0,0.5,'Value')"
      ]
     },
     "execution_count": 51,
     "metadata": {},
     "output_type": "execute_result"
    },
    {
     "data": {
      "image/png": "[encoded data removed]",
      "text/plain": [
       "<Figure size 432x288 with 1 Axes>"
      ]
     },
     "metadata": {},
     "output_type": "display_data"
    }
   ],
   "source": [
    "portfolio_value=plt.plot(YESB_data1['Date'],YESB_data_plot)\n",
    "plt.xlabel('Date')\n",
    "plt.ylabel('Value')"
   ]
  },
  {
   "cell_type": "code",
   "execution_count": null,
   "metadata": {},
   "outputs": [],
   "source": [
    "#Modified Trading Strategy \n",
    "#Extra parameters used as a constraint:\n",
    "#YESB_per : Difference between current stock price and 50 day moving average of stock price"
   ]
  },
  {
   "cell_type": "code",
   "execution_count": 57,
   "metadata": {},
   "outputs": [],
   "source": [
    "YESB_mean=data['Close'].rolling(50).mean()"
   ]
  },
  {
   "cell_type": "code",
   "execution_count": 58,
   "metadata": {},
   "outputs": [],
   "source": [
    "YESB_mean=YESB_mean[62:]"
   ]
  },
  {
   "cell_type": "code",
   "execution_count": 59,
   "metadata": {},
   "outputs": [],
   "source": [
    "YESB_per=((YESB_data1['Close']-YESB_mean)/(YESB_data1['Close']))*1000\n"
   ]
  },
  {
   "cell_type": "code",
   "execution_count": null,
   "metadata": {},
   "outputs": [],
   "source": [
    "#YESB_per values are plotted against Date"
   ]
  },
  {
   "cell_type": "code",
   "execution_count": 60,
   "metadata": {},
   "outputs": [
    {
     "data": {
      "text/plain": [
       "Text(0,0.5,'Value')"
      ]
     },
     "execution_count": 60,
     "metadata": {},
     "output_type": "execute_result"
    },
    {
     "data": {
      "image/png": "[encoded data removed]",
      "text/plain": [
       "<Figure size 432x288 with 1 Axes>"
      ]
     },
     "metadata": {},
     "output_type": "display_data"
    }
   ],
   "source": [
    "plt.plot(YESB_data1['Date'],YESB_per)\n",
    "plt.xlabel('Date')\n",
    "plt.ylabel('Value')"
   ]
  },
  {
   "cell_type": "code",
   "execution_count": null,
   "metadata": {},
   "outputs": [],
   "source": [
    "#Modified selling points and buying points are recorded in following array"
   ]
  },
  {
   "cell_type": "code",
   "execution_count": 66,
   "metadata": {},
   "outputs": [],
   "source": [
    "selld=np.array([])\n",
    "buyd=np.array([])"
   ]
  },
  {
   "cell_type": "code",
   "execution_count": 67,
   "metadata": {},
   "outputs": [],
   "source": [
    "#Modified Trading Strategy implementation"
   ]
  },
  {
   "cell_type": "code",
   "execution_count": 68,
   "metadata": {},
   "outputs": [],
   "source": [
    "for i in range(62,91):\n",
    "   \n",
    "    if YESB_per[i]<=-30 and YESB_data2['CCI'][i]>=30:\n",
    "        buyd=np.append(buyd,i)\n",
    "        break\n",
    "    "
   ]
  },
  {
   "cell_type": "code",
   "execution_count": 69,
   "metadata": {},
   "outputs": [],
   "source": [
    "for i in range(91,110):\n",
    "   \n",
    "    if YESB_per[i]>=30 and YESB_data2['CCI'][i]<=30:\n",
    "        selld=np.append(selld,i)\n",
    "        break"
   ]
  },
  {
   "cell_type": "code",
   "execution_count": 70,
   "metadata": {},
   "outputs": [],
   "source": [
    "for i in range(110,209):\n",
    "   \n",
    "    if YESB_per[i]<=-30 and YESB_data2['CCI'][i]>=30:\n",
    "        buyd=np.append(buyd,i)\n",
    "        break"
   ]
  },
  {
   "cell_type": "code",
   "execution_count": 71,
   "metadata": {},
   "outputs": [],
   "source": [
    "for i in range(209,232):\n",
    "  \n",
    "    if YESB_per[i]>=30 and YESB_data2['CCI'][i]<=30:\n",
    "        selld=np.append(selld,i)\n",
    "        break"
   ]
  },
  {
   "cell_type": "code",
   "execution_count": 72,
   "metadata": {},
   "outputs": [],
   "source": [
    "for i in range(232,268):\n",
    "  \n",
    "    if YESB_per[i]<=-30 and YESB_data2['CCI'][i]>=30:\n",
    "        buyd=np.append(buyd,i)\n",
    "        break"
   ]
  },
  {
   "cell_type": "code",
   "execution_count": 73,
   "metadata": {},
   "outputs": [],
   "source": [
    "for i in range(268,461):\n",
    "    \n",
    "    if YESB_per[i]>=30 and YESB_data2['CCI'][i]<=30:\n",
    "        selld=np.append(selld,i)\n",
    "        break"
   ]
  },
  {
   "cell_type": "code",
   "execution_count": 74,
   "metadata": {},
   "outputs": [],
   "source": [
    "for i in range(461,500):\n",
    "    \n",
    "    if YESB_per[i]<=-30 and YESB_data2['CCI'][i]>=30:\n",
    "        buyd=np.append(buyd,i)\n",
    "        break"
   ]
  },
  {
   "cell_type": "code",
   "execution_count": 75,
   "metadata": {},
   "outputs": [
    {
     "data": {
      "text/plain": [
       "array([176., 477.])"
      ]
     },
     "execution_count": 75,
     "metadata": {},
     "output_type": "execute_result"
    }
   ],
   "source": [
    "buyd"
   ]
  },
  {
   "cell_type": "code",
   "execution_count": 76,
   "metadata": {},
   "outputs": [
    {
     "data": {
      "text/plain": [
       "array([211., 312.])"
      ]
     },
     "execution_count": 76,
     "metadata": {},
     "output_type": "execute_result"
    }
   ],
   "source": [
    "selld"
   ]
  },
  {
   "cell_type": "code",
   "execution_count": null,
   "metadata": {},
   "outputs": [],
   "source": [
    "#Final array which contains buying and selling points"
   ]
  },
  {
   "cell_type": "code",
   "execution_count": 78,
   "metadata": {},
   "outputs": [],
   "source": [
    "finalarr=[62,71,176,211,268,312,477]"
   ]
  },
  {
   "cell_type": "code",
   "execution_count": 79,
   "metadata": {},
   "outputs": [],
   "source": [
    "#Profit from new strategy"
   ]
  },
  {
   "cell_type": "code",
   "execution_count": 80,
   "metadata": {},
   "outputs": [],
   "source": [
    "Profit2=YESB_data1.Close[71]-YESB_data1.Close[62]+YESB_data1.Close[211]-YESB_data1.Close[176]+YESB_data1.Close[312]-YESB_data1.Close[268]+YESB_data1.Close[556]-YESB_data1.Close[477]"
   ]
  },
  {
   "cell_type": "code",
   "execution_count": 81,
   "metadata": {},
   "outputs": [],
   "source": [
    "x1=YESB_data1.Close[71]-YESB_data1.Close[62]\n",
    "x2=YESB_data1.Close[211]-YESB_data1.Close[176]\n",
    "x3=YESB_data1.Close[312]-YESB_data1.Close[268]\n",
    "x4=YESB_data1.Close[556]-YESB_data1.Close[477]"
   ]
  },
  {
   "cell_type": "code",
   "execution_count": 83,
   "metadata": {},
   "outputs": [],
   "source": [
    "YESB_data_plot2=np.array([])"
   ]
  },
  {
   "cell_type": "code",
   "execution_count": 84,
   "metadata": {},
   "outputs": [],
   "source": [
    "for i in range(0,9):\n",
    "    YESB_data_plot2=np.append(YESB_data_plot2,0)\n",
    "for i in range(9,114):\n",
    "    YESB_data_plot2=np.append(YESB_data_plot2,x1)\n",
    "for i in range(114,149):\n",
    "    YESB_data_plot2=np.append(YESB_data_plot2,(YESB_data1.Close[i+62])+x1-YESB_data1.Close[114])\n",
    "for i in range(149,206):\n",
    "    YESB_data_plot2=np.append(YESB_data_plot2,x2+x1)\n",
    "for i in range(206,250):\n",
    "    YESB_data_plot2=np.append(YESB_data_plot2,YESB_data.Close[i+62]+x1+x2-YESB_data1.Close[206])\n",
    "for i in range(250,415):\n",
    "    YESB_data_plot2=np.append(YESB_data_plot2,x1+x2+x3)\n",
    "for i in range(415,495):\n",
    "    YESB_data_plot2=np.append(YESB_data_plot2,YESB_data.Close[i+62]+x1+x2+x3-YESB_data1.Close[477])"
   ]
  },
  {
   "cell_type": "code",
   "execution_count": null,
   "metadata": {},
   "outputs": [],
   "source": [
    "#New portfolio value ploted against Date"
   ]
  },
  {
   "cell_type": "code",
   "execution_count": 85,
   "metadata": {},
   "outputs": [
    {
     "data": {
      "text/plain": [
       "[<matplotlib.lines.Line2D at 0x2040f635c88>]"
      ]
     },
     "execution_count": 85,
     "metadata": {},
     "output_type": "execute_result"
    },
    {
     "data": {
      "image/png": "[encoded data removed]",
      "text/plain": [
       "<Figure size 432x288 with 1 Axes>"
      ]
     },
     "metadata": {},
     "output_type": "display_data"
    }
   ],
   "source": [
    "plt.plot(YESB_data1['Date'],YESB_data_plot2)"
   ]
  },
  {
   "cell_type": "code",
   "execution_count": null,
   "metadata": {},
   "outputs": [],
   "source": [
    "# Profit due to new trading startegy"
   ]
  },
  {
   "cell_type": "code",
   "execution_count": 86,
   "metadata": {},
   "outputs": [
    {
     "data": {
      "text/plain": [
       "82.47999999999996"
      ]
     },
     "execution_count": 86,
     "metadata": {},
     "output_type": "execute_result"
    }
   ],
   "source": [
    "Profit2"
   ]
  },
  {
   "cell_type": "code",
   "execution_count": 87,
   "metadata": {},
   "outputs": [],
   "source": [
    "#initial portfolio value = 0 \n",
    "#1 stock of yes bank is assumed to be bought before start of period"
   ]
  },
  {
   "cell_type": "code",
   "execution_count": 88,
   "metadata": {},
   "outputs": [],
   "source": [
    "mean=YESB_data_plot.mean()"
   ]
  },
  {
   "cell_type": "code",
   "execution_count": 90,
   "metadata": {},
   "outputs": [],
   "source": [
    "#Table for strategy 1 i.e total returns vs deviation"
   ]
  },
  {
   "cell_type": "code",
   "execution_count": 91,
   "metadata": {},
   "outputs": [],
   "source": [
    "Table_deviation=pd.DataFrame({'total_returns': YESB_data_plot,\n",
    "              'deviation':YESB_data_plot-mean\n",
    "             })"
   ]
  },
  {
   "cell_type": "code",
   "execution_count": 92,
   "metadata": {},
   "outputs": [],
   "source": [
    "mean2=YESB_data_plot2.mean()"
   ]
  },
  {
   "cell_type": "code",
   "execution_count": 93,
   "metadata": {},
   "outputs": [],
   "source": [
    "#Table for strategy 2 i.e total returns vs deviation"
   ]
  },
  {
   "cell_type": "code",
   "execution_count": 94,
   "metadata": {},
   "outputs": [],
   "source": [
    "Table_deviation2=pd.DataFrame({'total_returns': YESB_data_plot2,\n",
    "              'deviation':YESB_data_plot2-mean2\n",
    "             })"
   ]
  },
  {
   "cell_type": "code",
   "execution_count": 95,
   "metadata": {},
   "outputs": [
    {
     "data": {
      "text/html": [
       "<div>\n",
       "<style scoped>\n",
       "    .dataframe tbody tr th:only-of-type {\n",
       "        vertical-align: middle;\n",
       "    }\n",
       "\n",
       "    .dataframe tbody tr th {\n",
       "        vertical-align: top;\n",
       "    }\n",
       "\n",
       "    .dataframe thead th {\n",
       "        text-align: right;\n",
       "    }\n",
       "</style>\n",
       "<table border=\"1\" class=\"dataframe\">\n",
       "  <thead>\n",
       "    <tr style=\"text-align: right;\">\n",
       "      <th></th>\n",
       "      <th>total_returns</th>\n",
       "      <th>deviation</th>\n",
       "    </tr>\n",
       "  </thead>\n",
       "  <tbody>\n",
       "    <tr>\n",
       "      <th>0</th>\n",
       "      <td>0.00</td>\n",
       "      <td>-7.305091</td>\n",
       "    </tr>\n",
       "    <tr>\n",
       "      <th>1</th>\n",
       "      <td>0.00</td>\n",
       "      <td>-7.305091</td>\n",
       "    </tr>\n",
       "    <tr>\n",
       "      <th>2</th>\n",
       "      <td>0.00</td>\n",
       "      <td>-7.305091</td>\n",
       "    </tr>\n",
       "    <tr>\n",
       "      <th>3</th>\n",
       "      <td>0.00</td>\n",
       "      <td>-7.305091</td>\n",
       "    </tr>\n",
       "    <tr>\n",
       "      <th>4</th>\n",
       "      <td>0.00</td>\n",
       "      <td>-7.305091</td>\n",
       "    </tr>\n",
       "    <tr>\n",
       "      <th>5</th>\n",
       "      <td>0.00</td>\n",
       "      <td>-7.305091</td>\n",
       "    </tr>\n",
       "    <tr>\n",
       "      <th>6</th>\n",
       "      <td>0.00</td>\n",
       "      <td>-7.305091</td>\n",
       "    </tr>\n",
       "    <tr>\n",
       "      <th>7</th>\n",
       "      <td>0.00</td>\n",
       "      <td>-7.305091</td>\n",
       "    </tr>\n",
       "    <tr>\n",
       "      <th>8</th>\n",
       "      <td>0.00</td>\n",
       "      <td>-7.305091</td>\n",
       "    </tr>\n",
       "    <tr>\n",
       "      <th>9</th>\n",
       "      <td>-7.35</td>\n",
       "      <td>-14.655091</td>\n",
       "    </tr>\n",
       "    <tr>\n",
       "      <th>10</th>\n",
       "      <td>-7.35</td>\n",
       "      <td>-14.655091</td>\n",
       "    </tr>\n",
       "    <tr>\n",
       "      <th>11</th>\n",
       "      <td>-7.35</td>\n",
       "      <td>-14.655091</td>\n",
       "    </tr>\n",
       "    <tr>\n",
       "      <th>12</th>\n",
       "      <td>-7.35</td>\n",
       "      <td>-14.655091</td>\n",
       "    </tr>\n",
       "    <tr>\n",
       "      <th>13</th>\n",
       "      <td>-7.35</td>\n",
       "      <td>-14.655091</td>\n",
       "    </tr>\n",
       "    <tr>\n",
       "      <th>14</th>\n",
       "      <td>-7.35</td>\n",
       "      <td>-14.655091</td>\n",
       "    </tr>\n",
       "    <tr>\n",
       "      <th>15</th>\n",
       "      <td>-7.35</td>\n",
       "      <td>-14.655091</td>\n",
       "    </tr>\n",
       "    <tr>\n",
       "      <th>16</th>\n",
       "      <td>-7.35</td>\n",
       "      <td>-14.655091</td>\n",
       "    </tr>\n",
       "    <tr>\n",
       "      <th>17</th>\n",
       "      <td>-7.35</td>\n",
       "      <td>-14.655091</td>\n",
       "    </tr>\n",
       "    <tr>\n",
       "      <th>18</th>\n",
       "      <td>-7.35</td>\n",
       "      <td>-14.655091</td>\n",
       "    </tr>\n",
       "    <tr>\n",
       "      <th>19</th>\n",
       "      <td>-7.35</td>\n",
       "      <td>-14.655091</td>\n",
       "    </tr>\n",
       "    <tr>\n",
       "      <th>20</th>\n",
       "      <td>-7.35</td>\n",
       "      <td>-14.655091</td>\n",
       "    </tr>\n",
       "    <tr>\n",
       "      <th>21</th>\n",
       "      <td>-7.35</td>\n",
       "      <td>-14.655091</td>\n",
       "    </tr>\n",
       "    <tr>\n",
       "      <th>22</th>\n",
       "      <td>-7.35</td>\n",
       "      <td>-14.655091</td>\n",
       "    </tr>\n",
       "    <tr>\n",
       "      <th>23</th>\n",
       "      <td>-7.35</td>\n",
       "      <td>-14.655091</td>\n",
       "    </tr>\n",
       "    <tr>\n",
       "      <th>24</th>\n",
       "      <td>-7.35</td>\n",
       "      <td>-14.655091</td>\n",
       "    </tr>\n",
       "    <tr>\n",
       "      <th>25</th>\n",
       "      <td>-7.35</td>\n",
       "      <td>-14.655091</td>\n",
       "    </tr>\n",
       "    <tr>\n",
       "      <th>26</th>\n",
       "      <td>-7.35</td>\n",
       "      <td>-14.655091</td>\n",
       "    </tr>\n",
       "    <tr>\n",
       "      <th>27</th>\n",
       "      <td>-7.35</td>\n",
       "      <td>-14.655091</td>\n",
       "    </tr>\n",
       "    <tr>\n",
       "      <th>28</th>\n",
       "      <td>-7.35</td>\n",
       "      <td>-14.655091</td>\n",
       "    </tr>\n",
       "    <tr>\n",
       "      <th>29</th>\n",
       "      <td>-7.35</td>\n",
       "      <td>-14.655091</td>\n",
       "    </tr>\n",
       "    <tr>\n",
       "      <th>...</th>\n",
       "      <td>...</td>\n",
       "      <td>...</td>\n",
       "    </tr>\n",
       "    <tr>\n",
       "      <th>465</th>\n",
       "      <td>59.90</td>\n",
       "      <td>52.594909</td>\n",
       "    </tr>\n",
       "    <tr>\n",
       "      <th>466</th>\n",
       "      <td>60.78</td>\n",
       "      <td>53.474909</td>\n",
       "    </tr>\n",
       "    <tr>\n",
       "      <th>467</th>\n",
       "      <td>58.48</td>\n",
       "      <td>51.174909</td>\n",
       "    </tr>\n",
       "    <tr>\n",
       "      <th>468</th>\n",
       "      <td>62.64</td>\n",
       "      <td>55.334909</td>\n",
       "    </tr>\n",
       "    <tr>\n",
       "      <th>469</th>\n",
       "      <td>62.32</td>\n",
       "      <td>55.014909</td>\n",
       "    </tr>\n",
       "    <tr>\n",
       "      <th>470</th>\n",
       "      <td>61.58</td>\n",
       "      <td>54.274909</td>\n",
       "    </tr>\n",
       "    <tr>\n",
       "      <th>471</th>\n",
       "      <td>57.02</td>\n",
       "      <td>49.714909</td>\n",
       "    </tr>\n",
       "    <tr>\n",
       "      <th>472</th>\n",
       "      <td>63.22</td>\n",
       "      <td>55.914909</td>\n",
       "    </tr>\n",
       "    <tr>\n",
       "      <th>473</th>\n",
       "      <td>63.40</td>\n",
       "      <td>56.094909</td>\n",
       "    </tr>\n",
       "    <tr>\n",
       "      <th>474</th>\n",
       "      <td>57.94</td>\n",
       "      <td>50.634909</td>\n",
       "    </tr>\n",
       "    <tr>\n",
       "      <th>475</th>\n",
       "      <td>59.73</td>\n",
       "      <td>52.424909</td>\n",
       "    </tr>\n",
       "    <tr>\n",
       "      <th>476</th>\n",
       "      <td>64.57</td>\n",
       "      <td>57.264909</td>\n",
       "    </tr>\n",
       "    <tr>\n",
       "      <th>477</th>\n",
       "      <td>62.37</td>\n",
       "      <td>55.064909</td>\n",
       "    </tr>\n",
       "    <tr>\n",
       "      <th>478</th>\n",
       "      <td>66.89</td>\n",
       "      <td>59.584909</td>\n",
       "    </tr>\n",
       "    <tr>\n",
       "      <th>479</th>\n",
       "      <td>65.73</td>\n",
       "      <td>58.424909</td>\n",
       "    </tr>\n",
       "    <tr>\n",
       "      <th>480</th>\n",
       "      <td>68.72</td>\n",
       "      <td>61.414909</td>\n",
       "    </tr>\n",
       "    <tr>\n",
       "      <th>481</th>\n",
       "      <td>79.03</td>\n",
       "      <td>71.724909</td>\n",
       "    </tr>\n",
       "    <tr>\n",
       "      <th>482</th>\n",
       "      <td>78.76</td>\n",
       "      <td>71.454909</td>\n",
       "    </tr>\n",
       "    <tr>\n",
       "      <th>483</th>\n",
       "      <td>78.40</td>\n",
       "      <td>71.094909</td>\n",
       "    </tr>\n",
       "    <tr>\n",
       "      <th>484</th>\n",
       "      <td>74.27</td>\n",
       "      <td>66.964909</td>\n",
       "    </tr>\n",
       "    <tr>\n",
       "      <th>485</th>\n",
       "      <td>75.32</td>\n",
       "      <td>68.014909</td>\n",
       "    </tr>\n",
       "    <tr>\n",
       "      <th>486</th>\n",
       "      <td>70.02</td>\n",
       "      <td>62.714909</td>\n",
       "    </tr>\n",
       "    <tr>\n",
       "      <th>487</th>\n",
       "      <td>66.70</td>\n",
       "      <td>59.394909</td>\n",
       "    </tr>\n",
       "    <tr>\n",
       "      <th>488</th>\n",
       "      <td>75.87</td>\n",
       "      <td>68.564909</td>\n",
       "    </tr>\n",
       "    <tr>\n",
       "      <th>489</th>\n",
       "      <td>78.44</td>\n",
       "      <td>71.134909</td>\n",
       "    </tr>\n",
       "    <tr>\n",
       "      <th>490</th>\n",
       "      <td>78.23</td>\n",
       "      <td>70.924909</td>\n",
       "    </tr>\n",
       "    <tr>\n",
       "      <th>491</th>\n",
       "      <td>79.72</td>\n",
       "      <td>72.414909</td>\n",
       "    </tr>\n",
       "    <tr>\n",
       "      <th>492</th>\n",
       "      <td>81.59</td>\n",
       "      <td>74.284909</td>\n",
       "    </tr>\n",
       "    <tr>\n",
       "      <th>493</th>\n",
       "      <td>83.05</td>\n",
       "      <td>75.744909</td>\n",
       "    </tr>\n",
       "    <tr>\n",
       "      <th>494</th>\n",
       "      <td>82.48</td>\n",
       "      <td>75.174909</td>\n",
       "    </tr>\n",
       "  </tbody>\n",
       "</table>\n",
       "<p>495 rows × 2 columns</p>\n",
       "</div>"
      ],
      "text/plain": [
       "     total_returns  deviation\n",
       "0             0.00  -7.305091\n",
       "1             0.00  -7.305091\n",
       "2             0.00  -7.305091\n",
       "3             0.00  -7.305091\n",
       "4             0.00  -7.305091\n",
       "5             0.00  -7.305091\n",
       "6             0.00  -7.305091\n",
       "7             0.00  -7.305091\n",
       "8             0.00  -7.305091\n",
       "9            -7.35 -14.655091\n",
       "10           -7.35 -14.655091\n",
       "11           -7.35 -14.655091\n",
       "12           -7.35 -14.655091\n",
       "13           -7.35 -14.655091\n",
       "14           -7.35 -14.655091\n",
       "15           -7.35 -14.655091\n",
       "16           -7.35 -14.655091\n",
       "17           -7.35 -14.655091\n",
       "18           -7.35 -14.655091\n",
       "19           -7.35 -14.655091\n",
       "20           -7.35 -14.655091\n",
       "21           -7.35 -14.655091\n",
       "22           -7.35 -14.655091\n",
       "23           -7.35 -14.655091\n",
       "24           -7.35 -14.655091\n",
       "25           -7.35 -14.655091\n",
       "26           -7.35 -14.655091\n",
       "27           -7.35 -14.655091\n",
       "28           -7.35 -14.655091\n",
       "29           -7.35 -14.655091\n",
       "..             ...        ...\n",
       "465          59.90  52.594909\n",
       "466          60.78  53.474909\n",
       "467          58.48  51.174909\n",
       "468          62.64  55.334909\n",
       "469          62.32  55.014909\n",
       "470          61.58  54.274909\n",
       "471          57.02  49.714909\n",
       "472          63.22  55.914909\n",
       "473          63.40  56.094909\n",
       "474          57.94  50.634909\n",
       "475          59.73  52.424909\n",
       "476          64.57  57.264909\n",
       "477          62.37  55.064909\n",
       "478          66.89  59.584909\n",
       "479          65.73  58.424909\n",
       "480          68.72  61.414909\n",
       "481          79.03  71.724909\n",
       "482          78.76  71.454909\n",
       "483          78.40  71.094909\n",
       "484          74.27  66.964909\n",
       "485          75.32  68.014909\n",
       "486          70.02  62.714909\n",
       "487          66.70  59.394909\n",
       "488          75.87  68.564909\n",
       "489          78.44  71.134909\n",
       "490          78.23  70.924909\n",
       "491          79.72  72.414909\n",
       "492          81.59  74.284909\n",
       "493          83.05  75.744909\n",
       "494          82.48  75.174909\n",
       "\n",
       "[495 rows x 2 columns]"
      ]
     },
     "execution_count": 95,
     "metadata": {},
     "output_type": "execute_result"
    }
   ],
   "source": [
    "Table_deviation2"
   ]
  },
  {
   "cell_type": "code",
   "execution_count": null,
   "metadata": {},
   "outputs": [],
   "source": [
    "#Bar graph showing returns due to both strategies\n",
    "#Left one is CCI correction\n",
    "#Right one is CCI correction (modified)"
   ]
  },
  {
   "cell_type": "code",
   "execution_count": 180,
   "metadata": {},
   "outputs": [
    {
     "data": {
      "image/png": "[encoded data removed]",
      "text/plain": [
       "<Figure size 432x288 with 1 Axes>"
      ]
     },
     "metadata": {},
     "output_type": "display_data"
    }
   ],
   "source": [
    "data=[Profit1,Profit2]\n",
    "X = np.arange(2)\n",
    "plt.bar(X + 0.00, data, color = 'b', width = 0.5)\n",
    "plt.xlabel('Return')\n",
    "plt.ylabel('Portfolio Value')\n",
    "plt.show()"
   ]
  },
  {
   "cell_type": "code",
   "execution_count": null,
   "metadata": {},
   "outputs": [],
   "source": []
  }
 ],
 "metadata": {
  "kernelspec": {
   "display_name": "Python 3",
   "language": "python",
   "name": "python3"
  },
  "language_info": {
   "codemirror_mode": {
    "name": "ipython",
    "version": 3
   },
   "file_extension": ".py",
   "mimetype": "text/x-python",
   "name": "python",
   "nbconvert_exporter": "python",
   "pygments_lexer": "ipython3",
   "version": "3.6.5"
  }
 },
 "nbformat": 4,
 "nbformat_minor": 2
}
